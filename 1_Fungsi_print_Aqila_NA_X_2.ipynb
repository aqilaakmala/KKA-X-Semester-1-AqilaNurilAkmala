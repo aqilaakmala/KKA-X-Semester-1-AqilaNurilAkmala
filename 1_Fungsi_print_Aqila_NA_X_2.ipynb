{
  "nbformat": 4,
  "nbformat_minor": 0,
  "metadata": {
    "colab": {
      "provenance": [],
      "authorship_tag": "ABX9TyOohzLey9Yh/o8liVkacsWT",
      "include_colab_link": true
    },
    "kernelspec": {
      "name": "python3",
      "display_name": "Python 3"
    },
    "language_info": {
      "name": "python"
    }
  },
  "cells": [
    {
      "cell_type": "markdown",
      "metadata": {
        "id": "view-in-github",
        "colab_type": "text"
      },
      "source": [
        "<a href=\"https://colab.research.google.com/github/aqilaakmala/KKA-X-Semester-1-AqilaNurilAkmala/blob/main/1_Fungsi_print_Aqila_NA_X_2.ipynb\" target=\"_parent\"><img src=\"https://colab.research.google.com/assets/colab-badge.svg\" alt=\"Open In Colab\"/></a>"
      ]
    },
    {
      "cell_type": "markdown",
      "source": [
        "Nama: Aqila Nuril Akmala\n",
        "\n",
        "Kelas: X.2\n",
        "\n",
        "Nomor absen: 03"
      ],
      "metadata": {
        "id": "XYjwr__gtqm-"
      }
    },
    {
      "cell_type": "markdown",
      "source": [
        "#Menampilkan Teks Bebas"
      ],
      "metadata": {
        "id": "qoIIM2Zrunmw"
      }
    },
    {
      "cell_type": "code",
      "execution_count": null,
      "metadata": {
        "colab": {
          "base_uri": "https://localhost:8080/"
        },
        "id": "Krlvlz2ztDKs",
        "outputId": "df6e09ea-d898-40e1-e3c2-bddb58bfe9cb"
      },
      "outputs": [
        {
          "output_type": "stream",
          "name": "stdout",
          "text": [
            "Halo world!\n"
          ]
        }
      ],
      "source": [
        "print(\"Halo world!\")"
      ]
    },
    {
      "cell_type": "code",
      "source": [
        "print(\"Aqila Nuril Akmala\")"
      ],
      "metadata": {
        "colab": {
          "base_uri": "https://localhost:8080/"
        },
        "id": "8HUNVHX7wdBJ",
        "outputId": "b5aa7ac6-c177-4aa3-b2df-54f3ff9826cd"
      },
      "execution_count": null,
      "outputs": [
        {
          "output_type": "stream",
          "name": "stdout",
          "text": [
            "Aqila Nuril Akmala\n"
          ]
        }
      ]
    },
    {
      "cell_type": "markdown",
      "source": [
        "#Menampilkan Nilai Variabel"
      ],
      "metadata": {
        "id": "0w8pRvsCw2GZ"
      }
    },
    {
      "cell_type": "code",
      "source": [
        "berat_badan = 50\n",
        "\n",
        "print(berat_badan)"
      ],
      "metadata": {
        "colab": {
          "base_uri": "https://localhost:8080/"
        },
        "id": "WBymd6gtxEVz",
        "outputId": "43750bc2-9e62-4fc0-8afe-83107242ad04"
      },
      "execution_count": null,
      "outputs": [
        {
          "output_type": "stream",
          "name": "stdout",
          "text": [
            "50\n"
          ]
        }
      ]
    },
    {
      "cell_type": "code",
      "source": [
        "Nama = \"Aqila Nuril Akmala\"\n",
        "\n",
        "print(Nama)"
      ],
      "metadata": {
        "colab": {
          "base_uri": "https://localhost:8080/"
        },
        "id": "JzF99cdWx5Ko",
        "outputId": "91fc801a-55d8-47ad-ac90-77228037ab92"
      },
      "execution_count": null,
      "outputs": [
        {
          "output_type": "stream",
          "name": "stdout",
          "text": [
            "Aqila Nuril Akmala\n"
          ]
        }
      ]
    },
    {
      "cell_type": "code",
      "source": [
        "Usia = 15\n",
        "\n",
        "print(Usia)"
      ],
      "metadata": {
        "colab": {
          "base_uri": "https://localhost:8080/"
        },
        "id": "YJTLx606yLna",
        "outputId": "65f78e9c-2235-4cd9-a01b-fd012d70dd57"
      },
      "execution_count": null,
      "outputs": [
        {
          "output_type": "stream",
          "name": "stdout",
          "text": [
            "15\n"
          ]
        }
      ]
    },
    {
      "cell_type": "markdown",
      "source": [
        "#Menampilkan Teks Bebas dan Nilai Variabel"
      ],
      "metadata": {
        "id": "msnCPBRjyrPT"
      }
    },
    {
      "cell_type": "code",
      "source": [
        "print(\"berat badan saya adalah \", berat_badan, \"kg.\")"
      ],
      "metadata": {
        "colab": {
          "base_uri": "https://localhost:8080/"
        },
        "id": "YpVt0d0Jy4CX",
        "outputId": "adc7302a-ca73-4733-e982-7ac8adb0fd4c"
      },
      "execution_count": null,
      "outputs": [
        {
          "output_type": "stream",
          "name": "stdout",
          "text": [
            "berat badan saya adalah  50 kg.\n"
          ]
        }
      ]
    },
    {
      "cell_type": "code",
      "source": [
        "print(\"perkenalkan nama saya, \", Nama,\".\")"
      ],
      "metadata": {
        "colab": {
          "base_uri": "https://localhost:8080/"
        },
        "id": "BjIO8BeMznMw",
        "outputId": "84b9f773-beca-459d-ced0-d3c478caf522"
      },
      "execution_count": null,
      "outputs": [
        {
          "output_type": "stream",
          "name": "stdout",
          "text": [
            "perkenalkan nama saya,  Aqila Nuril Akmala .\n"
          ]
        }
      ]
    },
    {
      "cell_type": "code",
      "source": [
        "print(\"perkenalkan nama saya, \" + Nama + \".\")"
      ],
      "metadata": {
        "colab": {
          "base_uri": "https://localhost:8080/"
        },
        "id": "3XWVRRMn0q6F",
        "outputId": "19a90d6e-0903-46ba-a890-2632bf0ea1d2"
      },
      "execution_count": null,
      "outputs": [
        {
          "output_type": "stream",
          "name": "stdout",
          "text": [
            "perkenalkan nama saya, Aqila Nuril Akmala.\n"
          ]
        }
      ]
    },
    {
      "cell_type": "code",
      "source": [
        "print(\"berat badan saya adalah \" + str(berat_badan) + \" kg.\")"
      ],
      "metadata": {
        "colab": {
          "base_uri": "https://localhost:8080/"
        },
        "id": "ako3ggrs1z-C",
        "outputId": "d6480c9a-fda2-4a8b-9509-d36cd9b17c48"
      },
      "execution_count": null,
      "outputs": [
        {
          "output_type": "stream",
          "name": "stdout",
          "text": [
            "berat badan saya adalah 50 kg.\n"
          ]
        }
      ]
    },
    {
      "cell_type": "code",
      "source": [
        "print(f\"perkenalkan nama saya {Nama}.\")"
      ],
      "metadata": {
        "colab": {
          "base_uri": "https://localhost:8080/"
        },
        "id": "Mv52iWIm28XD",
        "outputId": "3b193c50-7f24-43a2-f3a4-e0870130c6f3"
      },
      "execution_count": null,
      "outputs": [
        {
          "output_type": "stream",
          "name": "stdout",
          "text": [
            "perkenalkan nama saya Aqila Nuril Akmala.\n"
          ]
        }
      ]
    },
    {
      "cell_type": "code",
      "source": [
        "print(f\"berat badan saya adalah {berat_badan} kg.\")"
      ],
      "metadata": {
        "colab": {
          "base_uri": "https://localhost:8080/"
        },
        "id": "FUYYGjOc3Qtw",
        "outputId": "c40ebcbd-0e06-4d53-d464-0b2a9ba2c6ed"
      },
      "execution_count": null,
      "outputs": [
        {
          "output_type": "stream",
          "name": "stdout",
          "text": [
            "berat badan saya adalah 50 kg.\n"
          ]
        }
      ]
    },
    {
      "cell_type": "markdown",
      "source": [
        "#Escape Character"
      ],
      "metadata": {
        "id": "pDLPxryl2OGA"
      }
    },
    {
      "cell_type": "code",
      "source": [
        "print(\"Nama : Aqila Nuril Akmala\")\n",
        "print(\"Kelas : X.2\")\n",
        "print(\"No. Absen : 04\")"
      ],
      "metadata": {
        "colab": {
          "base_uri": "https://localhost:8080/"
        },
        "id": "t3UdFvLd2_OA",
        "outputId": "1ba3bddf-7a28-45ec-88d3-94d8bb2dc378"
      },
      "execution_count": null,
      "outputs": [
        {
          "output_type": "stream",
          "name": "stdout",
          "text": [
            "Nama : Aqila Nuril Akmala\n",
            "Kelas : X.2\n",
            "No. Absen : 04\n"
          ]
        }
      ]
    },
    {
      "cell_type": "code",
      "source": [
        "print(\"\"\"Nama : Aqila Nuril Akmala\n",
        "Kelas : X.2\n",
        "No. Absen : 04\"\"\")"
      ],
      "metadata": {
        "colab": {
          "base_uri": "https://localhost:8080/"
        },
        "id": "Ouud039J3Sri",
        "outputId": "9872aacf-b7f8-49a4-98f8-0db4714b3fe4"
      },
      "execution_count": null,
      "outputs": [
        {
          "output_type": "stream",
          "name": "stdout",
          "text": [
            "Nama : Aqila Nuril Akmala \n",
            "Kelas : X.2\n",
            "No. Absen : 04\n"
          ]
        }
      ]
    },
    {
      "cell_type": "code",
      "source": [
        "print(\"Nama\\t\\t : Aqila Nuril Akmala\\nKelas\\t\\t : X.2\\nNo. Absen\\t : 04\")"
      ],
      "metadata": {
        "colab": {
          "base_uri": "https://localhost:8080/"
        },
        "id": "ZFvrgshb2UlO",
        "outputId": "c9c82e4f-b2f8-4d32-c736-697f61ee3daa"
      },
      "execution_count": null,
      "outputs": [
        {
          "output_type": "stream",
          "name": "stdout",
          "text": [
            "Nama\t\t : Aqila Nuril Akmala\n",
            "Kelas\t\t : X.2\n",
            "No. Absen\t : 04\n"
          ]
        }
      ]
    },
    {
      "cell_type": "markdown",
      "source": [
        "#Tugas Materi Escape Character"
      ],
      "metadata": {
        "id": "EHTcvMhxaPJF"
      }
    },
    {
      "cell_type": "code",
      "source": [
        "print(\"Jadwal Pelajaran Kelas X-2 MAN DEMAK Tahun Ajaran 2025-2026\")\n",
        "print(\"===================================================================================================\")\n",
        "print(\"Jam\\tSenin\\t\\tSelasa\\t\\tRabu\\t\\tKamis\\t\\tJumat\\t\\tSabtu\")\n",
        "print(\"Jam 1\\tMAT WAJIB\\tBA\\t\\tBJ\\t\\tIPA FISIKA\\tMAT WAJIB\\tIPA BIOLOGI\")\n",
        "print(\"Jam 2\\tMAT WAJIB\\tBA\\t\\tBJ\\t\\tIPA FISIKA\\tMAT WAJIB\\tIPA BIOLOGI\")\n",
        "print(\"Jam 3\\tBIND\\t\\tPJOK\\t\\tFIK\\t\\tIPS SEJARAH\\tPEND. PANCASILA\\tIPS EKONOMI\")\n",
        "print(\"Jam 4\\tBIND\\t\\tPJOK\\t\\tFIK\\t\\tIPS SEJARAH\\tPEND. PANCASILA\\tIPS EKONOMI\")\n",
        "print(\"Jam 5\\tBA\\t\\tBIND\\t\\tIPA KIMIA\\tIPA BIOLOGI\\tSB\\t\\tSKI\")\n",
        "print(\"Jam 6\\tBA\\t\\tBIND\\t\\tIPA KIMIA\\tIPS GEOGRAFI\\t-\\t\\tSKI\")\n",
        "print(\"Jam 7\\tBING\\t\\tAA\\t\\tSB\\t\\tIPS GEOGRAFI\\t-\\t\\tQH\")\n",
        "print(\"Jam 8\\tBING\\t\\tAA\\t\\tPKWU\\t\\tIPS SOSIOLOGI\\t-\\t\\tQH\")\n",
        "print(\"Jam 9\\tBING\\t\\tBK\\t\\tPKWU\\t\\tIPS SOSIOLOGI\\t-\\t\\tKKA\")\n",
        "print(\"Jam 10\\t-\\t\\t-\\t\\t-\\t\\t-\\t\\t-\\t\\tKKA\")"
      ],
      "metadata": {
        "colab": {
          "base_uri": "https://localhost:8080/"
        },
        "id": "OS6GnShIaVUe",
        "outputId": "86077221-9acc-47ed-989b-dda356130b43"
      },
      "execution_count": null,
      "outputs": [
        {
          "output_type": "stream",
          "name": "stdout",
          "text": [
            "Jadwal Pelajaran Kelas X-2 MAN DEMAK Tahun Ajaran 2025-2026\n",
            "===================================================================================================\n",
            "Jam\tSenin\t\tSelasa\t\tRabu\t\tKamis\t\tJumat\t\tSabtu\n",
            "Jam 1\tMAT WAJIB\tBA\t\tBJ\t\tIPA FISIKA\tMAT WAJIB\tIPA BIOLOGI\n",
            "Jam 2\tMAT WAJIB\tBA\t\tBJ\t\tIPA FISIKA\tMAT WAJIB\tIPA BIOLOGI\n",
            "Jam 3\tBIND\t\tPJOK\t\tFIK\t\tIPS SEJARAH\tPEND. PANCASILA\tIPS EKONOMI\n",
            "Jam 4\tBIND\t\tPJOK\t\tFIK\t\tIPS SEJARAH\tPEND. PANCASILA\tIPS EKONOMI\n",
            "Jam 5\tBA\t\tBIND\t\tIPA KIMIA\tIPA BIOLOGI\tSB\t\tSKI\n",
            "Jam 6\tBA\t\tBIND\t\tIPA KIMIA\tIPS GEOGRAFI\t-\t\tSKI\n",
            "Jam 7\tBING\t\tAA\t\tSB\t\tIPS GEOGRAFI\t-\t\tQH\n",
            "Jam 8\tBING\t\tAA\t\tPKWU\t\tIPS SOSIOLOGI\t-\t\tQH\n",
            "Jam 9\tBING\t\tBK\t\tPKWU\t\tIPS SOSIOLOGI\t-\t\tKKA\n",
            "Jam 10\t-\t\t-\t\t-\t\t-\t\t-\t\tKKA\n"
          ]
        }
      ]
    },
    {
      "cell_type": "markdown",
      "source": [
        "#Latihan soal"
      ],
      "metadata": {
        "id": "M4hrmg0F73s4"
      }
    },
    {
      "cell_type": "code",
      "source": [
        "print('Bu Shinta berkata, \"Berikut adalah daftar piket harian kelas X.2 yang di simpan di file D: \\\\MAN Demak\\\\Jadwal Piket.\"')\n",
        "print(\"\\n\")\n",
        "print(\"Senin\\tSelasa\\tRabu\\t\")\n",
        "print(\"Jielo\\tHasbi\\tNaufal\")\n",
        "print(\"Azam\\tAida\\tNurul\")"
      ],
      "metadata": {
        "colab": {
          "base_uri": "https://localhost:8080/"
        },
        "id": "vo6VvJ2h77wk",
        "outputId": "c4f6c67d-391d-4023-922f-81123e191438"
      },
      "execution_count": null,
      "outputs": [
        {
          "output_type": "stream",
          "name": "stdout",
          "text": [
            "Bu Shinta berkata, \"Berikut adalah daftar piket harian kelas X.2 yang di simpan di file D: \\MAN Demak\\Jadwal Piket.\"\n",
            "\n",
            "\n",
            "Senin\tSelasa\tRabu\t\n",
            "Jielo\tHasbi\tNaufal\n",
            "Azam\tAida\tNurul\n"
          ]
        }
      ]
    },
    {
      "cell_type": "markdown",
      "source": [
        "#Parameter Fungsi print"
      ],
      "metadata": {
        "id": "4F0LHVzy1CrU"
      }
    },
    {
      "cell_type": "code",
      "source": [
        "nama_siswa_1 = \"Jielo\"\n",
        "nama_siswa_2 = \"Aida\"\n",
        "nama_siswa_3 = \"Dani\"\n",
        "\n",
        "print(nama_siswa_1, end=\"-\")\n",
        "print(nama_siswa_2, end=\"-\")\n",
        "print(nama_siswa_3)"
      ],
      "metadata": {
        "colab": {
          "base_uri": "https://localhost:8080/"
        },
        "id": "9DcajwbP1Hrg",
        "outputId": "504a309c-8600-4404-82c8-3f21fdd95f06"
      },
      "execution_count": null,
      "outputs": [
        {
          "output_type": "stream",
          "name": "stdout",
          "text": [
            "Jielo-Aida-Dani\n"
          ]
        }
      ]
    },
    {
      "cell_type": "code",
      "source": [
        "nama_siswa_1 = \"Jielo\"\n",
        "nama_siswa_2 = \"Aida\"\n",
        "nama_siswa_3 = \"Dani\"\n",
        "nama_siswa_4 = \"Nurul\"\n",
        "\n",
        "\n",
        "print(nama_siswa_4, end=\"/\")\n",
        "print(nama_siswa_2, end=\"/\")\n",
        "print(nama_siswa_1, end=\"/\")\n",
        "print(nama_siswa_3)"
      ],
      "metadata": {
        "colab": {
          "base_uri": "https://localhost:8080/"
        },
        "id": "1ReATE0R1sVW",
        "outputId": "3959a3d1-3754-4a18-8d20-94437d0afe0b"
      },
      "execution_count": null,
      "outputs": [
        {
          "output_type": "stream",
          "name": "stdout",
          "text": [
            "Nurul/Aida/Jielo/Dani\n"
          ]
        }
      ]
    },
    {
      "cell_type": "code",
      "source": [
        "nama_siswa_5 = \"Hasbi\"\n",
        "nama_siswa_6 = \"Habibi\"\n",
        "nama_siswa_7 = \"Rendra\"\n",
        "nama_siswa_8 = \"Naufal\"\n",
        "\n",
        "\n",
        "print(nama_siswa_5, nama_siswa_8, nama_siswa_7, nama_siswa_6, nama_siswa_8, sep=\"*\")"
      ],
      "metadata": {
        "colab": {
          "base_uri": "https://localhost:8080/"
        },
        "id": "4on_M6474Q2U",
        "outputId": "ac524314-78b1-428b-b1d8-8fda3a27f1f8"
      },
      "execution_count": null,
      "outputs": [
        {
          "output_type": "stream",
          "name": "stdout",
          "text": [
            "Hasbi*Naufal*Rendra*Habibi*Naufal\n"
          ]
        }
      ]
    }
  ]
}